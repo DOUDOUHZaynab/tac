{
 "cells": [
  {
   "cell_type": "markdown",
   "metadata": {},
   "source": [
    "# Scraping: récupération de la page d'accueil du journal Le Soir\n",
    "\n",
    "Dans ce notebook, nous créons un robot qui va ouvrir la page d'accueil du site du journal [Le Soir](https://www.lesoir.be/) et récupérer le titre de tous les articles du jour et les stocker dans un fichier csv."
   ]
  },
  {
   "cell_type": "markdown",
   "metadata": {},
   "source": [
    "## Imports"
   ]
  },
  {
   "cell_type": "code",
   "execution_count": 2,
   "metadata": {},
   "outputs": [],
   "source": [
    "import os\n",
    "import re\n",
    "import time\n",
    "import requests\n",
    "from bs4 import BeautifulSoup\n",
    "import pandas as pd"
   ]
  },
  {
   "cell_type": "markdown",
   "metadata": {},
   "source": [
    "## Récupération de tous les articles de la page d'accueil\n",
    "\n"
   ]
  },
  {
   "cell_type": "code",
   "execution_count": 3,
   "metadata": {},
   "outputs": [
    {
     "name": "stderr",
     "output_type": "stream",
     "text": [
      "c:\\Users\\sophi\\tac\\tac_venv\\Lib\\site-packages\\urllib3\\connectionpool.py:1097: InsecureRequestWarning: Unverified HTTPS request is being made to host 'max.de.wilde.web.ulb.be'. Adding certificate verification is strongly advised. See: https://urllib3.readthedocs.io/en/latest/advanced-usage.html#tls-warnings\n",
      "  warnings.warn(\n"
     ]
    }
   ],
   "source": [
    "headers = {'User-Agent': 'Mozilla/5.0 (Macintosh; Intel Mac OS X 10_10_1) AppleWebKit/537.36 (KHTML, like Gecko) Chrome/39.0.2171.95 Safari/537.36'}\n",
    "\n",
    "articles = []\n",
    "\n",
    "root_url = f\"https://max.de.wilde.web.ulb.be/camille/\"\n",
    "response = requests.get(root_url, headers=headers,verify=False)\n",
    "soup = BeautifulSoup(response.text, 'html.parser')\n",
    "for link in soup.find_all(\"a\"):\n",
    "    title = link.text.strip()\n",
    "    url = root_url + link.get('href')\n",
    "    articles.append([url, title])"
   ]
  },
  {
   "cell_type": "code",
   "execution_count": 4,
   "metadata": {},
   "outputs": [
    {
     "data": {
      "text/plain": [
       "51"
      ]
     },
     "execution_count": 4,
     "metadata": {},
     "output_type": "execute_result"
    }
   ],
   "source": [
    "# Affichage du nombre d'articles récupérés\n",
    "len(articles)"
   ]
  },
  {
   "cell_type": "code",
   "execution_count": 5,
   "metadata": {},
   "outputs": [
    {
     "data": {
      "text/plain": [
       "[['https://max.de.wilde.web.ulb.be/camille/KB_JB230_1892-08-07_01-0003.pdf',\n",
       "  'KB_JB230_1892-08-07_01-0003.pdf'],\n",
       " ['https://max.de.wilde.web.ulb.be/camille/KB_JB427_1920-01-10_01-00004.pdf',\n",
       "  'KB_JB427_1920-01-10_01-00004.pdf'],\n",
       " ['https://max.de.wilde.web.ulb.be/camille/KB_JB555_1836-02-08_01-00002.pdf',\n",
       "  'KB_JB555_1836-02-08_01-00002.pdf'],\n",
       " ['https://max.de.wilde.web.ulb.be/camille/KB_JB638_1860-05-21_01-00002.pdf',\n",
       "  'KB_JB638_1860-05-21_01-00002.pdf'],\n",
       " ['https://max.de.wilde.web.ulb.be/camille/KB_JB773_1918-11-30_01-00002.pdf',\n",
       "  'KB_JB773_1918-11-30_01-00002.pdf'],\n",
       " ['https://max.de.wilde.web.ulb.be/camille/KB_JB838_1887-12-28_01-00003.pdf',\n",
       "  'KB_JB838_1887-12-28_01-00003.pdf'],\n",
       " ['https://max.de.wilde.web.ulb.be/camille/KB_JB230_1903-10-16_01-0002.pdf',\n",
       "  'KB_JB230_1903-10-16_01-0002.pdf'],\n",
       " ['https://max.de.wilde.web.ulb.be/camille/KB_JB427_1933-01-04_01-00003.pdf',\n",
       "  'KB_JB427_1933-01-04_01-00003.pdf'],\n",
       " ['https://max.de.wilde.web.ulb.be/camille/KB_JB555_1899-01-19_01-00003.pdf',\n",
       "  'KB_JB555_1899-01-19_01-00003.pdf'],\n",
       " ['https://max.de.wilde.web.ulb.be/camille/KB_JB638_1902-12-20_01-00002.pdf',\n",
       "  'KB_JB638_1902-12-20_01-00002.pdf']]"
      ]
     },
     "execution_count": 5,
     "metadata": {},
     "output_type": "execute_result"
    }
   ],
   "source": [
    "# Affichage des 10 premières entrées\n",
    "articles[:10]"
   ]
  },
  {
   "cell_type": "markdown",
   "metadata": {},
   "source": [
    "## Création d'un dataframe avec les liens et les titres des articles\n"
   ]
  },
  {
   "cell_type": "code",
   "execution_count": null,
   "metadata": {},
   "outputs": [],
   "source": [
    "df = pd.DataFrame(articles, columns=['link', 'title'])\n",
    "df"
   ]
  },
  {
   "cell_type": "code",
   "execution_count": 6,
   "metadata": {},
   "outputs": [
    {
     "ename": "NameError",
     "evalue": "name 'df' is not defined",
     "output_type": "error",
     "traceback": [
      "\u001b[31m---------------------------------------------------------------------------\u001b[39m",
      "\u001b[31mNameError\u001b[39m                                 Traceback (most recent call last)",
      "\u001b[36mCell\u001b[39m\u001b[36m \u001b[39m\u001b[32mIn[6]\u001b[39m\u001b[32m, line 2\u001b[39m\n\u001b[32m      1\u001b[39m \u001b[38;5;66;03m# Sauvegarde du dataframe dans un fichier csv\u001b[39;00m\n\u001b[32m----> \u001b[39m\u001b[32m2\u001b[39m \u001b[43mdf\u001b[49m.to_csv(\u001b[33mf\u001b[39m\u001b[33m\"\u001b[39m\u001b[33m../data/rtbf_\u001b[39m\u001b[38;5;132;01m{\u001b[39;00mtime.strftime(\u001b[33m'\u001b[39m\u001b[33m%\u001b[39m\u001b[33mY\u001b[39m\u001b[33m%\u001b[39m\u001b[33mm\u001b[39m\u001b[38;5;132;01m%d\u001b[39;00m\u001b[33m'\u001b[39m)\u001b[38;5;132;01m}\u001b[39;00m\u001b[33m.csv\u001b[39m\u001b[33m\"\u001b[39m, index=\u001b[38;5;28;01mFalse\u001b[39;00m)\n",
      "\u001b[31mNameError\u001b[39m: name 'df' is not defined"
     ]
    }
   ],
   "source": [
    "# Sauvegarde du dataframe dans un fichier csv\n",
    "df.to_csv(f\"../data/rtbf_{time.strftime('%Y%m%d')}.csv\", index=False)"
   ]
  },
  {
   "cell_type": "markdown",
   "metadata": {},
   "source": [
    "## Téléchargement d'un article et affichage du texte"
   ]
  },
  {
   "cell_type": "code",
   "execution_count": 7,
   "metadata": {},
   "outputs": [
    {
     "ename": "NameError",
     "evalue": "name 'df' is not defined",
     "output_type": "error",
     "traceback": [
      "\u001b[31m---------------------------------------------------------------------------\u001b[39m",
      "\u001b[31mNameError\u001b[39m                                 Traceback (most recent call last)",
      "\u001b[36mCell\u001b[39m\u001b[36m \u001b[39m\u001b[32mIn[7]\u001b[39m\u001b[32m, line 2\u001b[39m\n\u001b[32m      1\u001b[39m \u001b[38;5;66;03m# Récupération du premier lien du dataframe\u001b[39;00m\n\u001b[32m----> \u001b[39m\u001b[32m2\u001b[39m article_url = \u001b[43mdf\u001b[49m.iloc[\u001b[32m0\u001b[39m][\u001b[32m0\u001b[39m]\n\u001b[32m      4\u001b[39m \u001b[38;5;66;03m# Ouverture de la page\u001b[39;00m\n\u001b[32m      5\u001b[39m response = requests.get(article_url, headers=headers)\n",
      "\u001b[31mNameError\u001b[39m: name 'df' is not defined"
     ]
    }
   ],
   "source": [
    "# Récupération du premier lien du dataframe\n",
    "article_url = df.iloc[0][0]\n",
    "\n",
    "# Ouverture de la page\n",
    "response = requests.get(article_url, headers=headers)\n",
    "soup = BeautifulSoup(response.content, 'html.parser')\n",
    "# Parsing du contenu\n",
    "title = soup.find(\"h1\").get_text(separator=' ')\n",
    "\n",
    "paragraphs = []\n",
    "for paragraph in soup.find_all(\"p\", attrs={\"class\": None}):\n",
    "    paragraphs.append(paragraph.get_text(separator=' ').strip())\n",
    "\n",
    "content = \"\\n\".join(paragraphs)\n",
    "print(title)\n",
    "print(\"==================================\")\n",
    "print(content)"
   ]
  },
  {
   "cell_type": "markdown",
   "metadata": {},
   "source": [
    "### Nettoyage du texte à l'aide d'expressions régulières"
   ]
  },
  {
   "cell_type": "code",
   "execution_count": 8,
   "metadata": {},
   "outputs": [
    {
     "ename": "NameError",
     "evalue": "name 'content' is not defined",
     "output_type": "error",
     "traceback": [
      "\u001b[31m---------------------------------------------------------------------------\u001b[39m",
      "\u001b[31mNameError\u001b[39m                                 Traceback (most recent call last)",
      "\u001b[36mCell\u001b[39m\u001b[36m \u001b[39m\u001b[32mIn[8]\u001b[39m\u001b[32m, line 2\u001b[39m\n\u001b[32m      1\u001b[39m \u001b[38;5;66;03m# Suppression de tout ce qui se trouve entre parenthèses\u001b[39;00m\n\u001b[32m----> \u001b[39m\u001b[32m2\u001b[39m clean_content = re.sub(\u001b[33m\"\u001b[39m\u001b[33m\\\u001b[39m\u001b[33m([^\u001b[39m\u001b[33m\\\u001b[39m\u001b[33m)]+\u001b[39m\u001b[33m\\\u001b[39m\u001b[33m)\u001b[39m\u001b[33m\"\u001b[39m, \u001b[33m\"\u001b[39m\u001b[33m \u001b[39m\u001b[33m\"\u001b[39m, \u001b[43mcontent\u001b[49m)\n\u001b[32m      3\u001b[39m \u001b[38;5;66;03m# Suppression des espaces multiples\u001b[39;00m\n\u001b[32m      4\u001b[39m clean_content = re.sub(\u001b[33m\"\u001b[39m\u001b[33m\\\u001b[39m\u001b[33ms+\u001b[39m\u001b[33m\"\u001b[39m, \u001b[33m\"\u001b[39m\u001b[33m \u001b[39m\u001b[33m\"\u001b[39m, clean_content)\n",
      "\u001b[31mNameError\u001b[39m: name 'content' is not defined"
     ]
    }
   ],
   "source": [
    "# Suppression de tout ce qui se trouve entre parenthèses\n",
    "clean_content = re.sub(\"\\([^\\)]+\\)\", \" \", content)\n",
    "# Suppression des espaces multiples\n",
    "clean_content = re.sub(\"\\s+\", \" \", clean_content)\n",
    "\n",
    "print(content)\n",
    "print(\"==================================\")\n",
    "print(clean_content)\n"
   ]
  },
  {
   "cell_type": "markdown",
   "metadata": {},
   "source": [
    "### Création d'un fichier avec le contenu de l'article\n"
   ]
  },
  {
   "cell_type": "code",
   "execution_count": null,
   "metadata": {},
   "outputs": [],
   "source": [
    "with open(\"../data/rtbf_example.txt\", \"w\") as writer:\n",
    "    writer.write(f\"{title}\\n\\n{clean_content}\")"
   ]
  },
  {
   "cell_type": "markdown",
   "metadata": {},
   "source": [
    "## Téléchargement automatique des fichiers PDF\n",
    "\n",
    "Le bloc suivant recherche tous les liens se terminant par .pdf sur la page racine et télécharge chaque fichier dans le dossier `../data/PDF`. Les fichiers déjà présents sont ignorés.\n"
   ]
  },
  {
   "cell_type": "code",
   "execution_count": null,
   "metadata": {},
   "outputs": [
    {
     "name": "stderr",
     "output_type": "stream",
     "text": [
      "c:\\Users\\sophi\\tac\\tac_venv\\Lib\\site-packages\\urllib3\\connectionpool.py:1097: InsecureRequestWarning: Unverified HTTPS request is being made to host 'max.de.wilde.web.ulb.be'. Adding certificate verification is strongly advised. See: https://urllib3.readthedocs.io/en/latest/advanced-usage.html#tls-warnings\n",
      "  warnings.warn(\n"
     ]
    },
    {
     "name": "stdout",
     "output_type": "stream",
     "text": [
      "Found 51 PDF links\n",
      "Downloading KB_JB230_1892-08-07_01-0003.pdf...\n",
      "Failed to download https://max.de.wilde.web.ulb.be/camille/KB_JB230_1892-08-07_01-0003.pdf: HTTPSConnectionPool(host='max.de.wilde.web.ulb.be', port=443): Max retries exceeded with url: /camille/KB_JB230_1892-08-07_01-0003.pdf (Caused by SSLError(SSLCertVerificationError(1, '[SSL: CERTIFICATE_VERIFY_FAILED] certificate verify failed: unable to get local issuer certificate (_ssl.c:1006)')))\n",
      "Downloading KB_JB230_1903-10-16_01-0002.pdf...\n",
      "Failed to download https://max.de.wilde.web.ulb.be/camille/KB_JB230_1903-10-16_01-0002.pdf: HTTPSConnectionPool(host='max.de.wilde.web.ulb.be', port=443): Max retries exceeded with url: /camille/KB_JB230_1903-10-16_01-0002.pdf (Caused by SSLError(SSLCertVerificationError(1, '[SSL: CERTIFICATE_VERIFY_FAILED] certificate verify failed: unable to get local issuer certificate (_ssl.c:1006)')))\n",
      "Downloading KB_JB230_1913-07-05_01-0001.pdf...\n",
      "Failed to download https://max.de.wilde.web.ulb.be/camille/KB_JB230_1913-07-05_01-0001.pdf: HTTPSConnectionPool(host='max.de.wilde.web.ulb.be', port=443): Max retries exceeded with url: /camille/KB_JB230_1913-07-05_01-0001.pdf (Caused by SSLError(SSLCertVerificationError(1, '[SSL: CERTIFICATE_VERIFY_FAILED] certificate verify failed: unable to get local issuer certificate (_ssl.c:1006)')))\n",
      "Downloading KB_JB258_1884-09-03_01-0003.pdf...\n",
      "Failed to download https://max.de.wilde.web.ulb.be/camille/KB_JB258_1884-09-03_01-0003.pdf: HTTPSConnectionPool(host='max.de.wilde.web.ulb.be', port=443): Max retries exceeded with url: /camille/KB_JB258_1884-09-03_01-0003.pdf (Caused by SSLError(SSLCertVerificationError(1, '[SSL: CERTIFICATE_VERIFY_FAILED] certificate verify failed: unable to get local issuer certificate (_ssl.c:1006)')))\n",
      "Downloading KB_JB258_1894-12-09_01-0003.pdf...\n",
      "Failed to download https://max.de.wilde.web.ulb.be/camille/KB_JB258_1894-12-09_01-0003.pdf: HTTPSConnectionPool(host='max.de.wilde.web.ulb.be', port=443): Max retries exceeded with url: /camille/KB_JB258_1894-12-09_01-0003.pdf (Caused by SSLError(SSLCertVerificationError(1, '[SSL: CERTIFICATE_VERIFY_FAILED] certificate verify failed: unable to get local issuer certificate (_ssl.c:1006)')))\n",
      "Downloading KB_JB258_1906-01-09_01-0002.pdf...\n",
      "Failed to download https://max.de.wilde.web.ulb.be/camille/KB_JB258_1906-01-09_01-0002.pdf: HTTPSConnectionPool(host='max.de.wilde.web.ulb.be', port=443): Max retries exceeded with url: /camille/KB_JB258_1906-01-09_01-0002.pdf (Caused by SSLError(SSLCertVerificationError(1, '[SSL: CERTIFICATE_VERIFY_FAILED] certificate verify failed: unable to get local issuer certificate (_ssl.c:1006)')))\n",
      "Downloading KB_JB421_1899-05-15_01-00003.pdf...\n",
      "Failed to download https://max.de.wilde.web.ulb.be/camille/KB_JB421_1899-05-15_01-00003.pdf: HTTPSConnectionPool(host='max.de.wilde.web.ulb.be', port=443): Max retries exceeded with url: /camille/KB_JB421_1899-05-15_01-00003.pdf (Caused by SSLError(SSLCertVerificationError(1, '[SSL: CERTIFICATE_VERIFY_FAILED] certificate verify failed: unable to get local issuer certificate (_ssl.c:1006)')))\n",
      "Downloading KB_JB421_1926-10-29_01-00002.pdf...\n",
      "Failed to download https://max.de.wilde.web.ulb.be/camille/KB_JB421_1926-10-29_01-00002.pdf: HTTPSConnectionPool(host='max.de.wilde.web.ulb.be', port=443): Max retries exceeded with url: /camille/KB_JB421_1926-10-29_01-00002.pdf (Caused by SSLError(SSLCertVerificationError(1, '[SSL: CERTIFICATE_VERIFY_FAILED] certificate verify failed: unable to get local issuer certificate (_ssl.c:1006)')))\n",
      "Downloading KB_JB421_1950-04-15_01-00004.pdf...\n",
      "Failed to download https://max.de.wilde.web.ulb.be/camille/KB_JB421_1950-04-15_01-00004.pdf: HTTPSConnectionPool(host='max.de.wilde.web.ulb.be', port=443): Max retries exceeded with url: /camille/KB_JB421_1950-04-15_01-00004.pdf (Caused by SSLError(SSLCertVerificationError(1, '[SSL: CERTIFICATE_VERIFY_FAILED] certificate verify failed: unable to get local issuer certificate (_ssl.c:1006)')))\n",
      "Downloading KB_JB427_1920-01-10_01-00004.pdf...\n",
      "Failed to download https://max.de.wilde.web.ulb.be/camille/KB_JB427_1920-01-10_01-00004.pdf: HTTPSConnectionPool(host='max.de.wilde.web.ulb.be', port=443): Max retries exceeded with url: /camille/KB_JB427_1920-01-10_01-00004.pdf (Caused by SSLError(SSLCertVerificationError(1, '[SSL: CERTIFICATE_VERIFY_FAILED] certificate verify failed: unable to get local issuer certificate (_ssl.c:1006)')))\n",
      "Downloading KB_JB427_1933-01-04_01-00003.pdf...\n",
      "Failed to download https://max.de.wilde.web.ulb.be/camille/KB_JB427_1933-01-04_01-00003.pdf: HTTPSConnectionPool(host='max.de.wilde.web.ulb.be', port=443): Max retries exceeded with url: /camille/KB_JB427_1933-01-04_01-00003.pdf (Caused by SSLError(SSLCertVerificationError(1, '[SSL: CERTIFICATE_VERIFY_FAILED] certificate verify failed: unable to get local issuer certificate (_ssl.c:1006)')))\n",
      "Downloading KB_JB427_1949-07-18_01-00008.pdf...\n",
      "Failed to download https://max.de.wilde.web.ulb.be/camille/KB_JB427_1949-07-18_01-00008.pdf: HTTPSConnectionPool(host='max.de.wilde.web.ulb.be', port=443): Max retries exceeded with url: /camille/KB_JB427_1949-07-18_01-00008.pdf (Caused by SSLError(SSLCertVerificationError(1, '[SSL: CERTIFICATE_VERIFY_FAILED] certificate verify failed: unable to get local issuer certificate (_ssl.c:1006)')))\n",
      "Downloading KB_JB449_1846-05-30_01-00002.pdf...\n",
      "Failed to download https://max.de.wilde.web.ulb.be/camille/KB_JB449_1846-05-30_01-00002.pdf: HTTPSConnectionPool(host='max.de.wilde.web.ulb.be', port=443): Max retries exceeded with url: /camille/KB_JB449_1846-05-30_01-00002.pdf (Caused by SSLError(SSLCertVerificationError(1, '[SSL: CERTIFICATE_VERIFY_FAILED] certificate verify failed: unable to get local issuer certificate (_ssl.c:1006)')))\n",
      "Downloading KB_JB449_1912-01-04_01-00003.pdf...\n",
      "Failed to download https://max.de.wilde.web.ulb.be/camille/KB_JB449_1912-01-04_01-00003.pdf: HTTPSConnectionPool(host='max.de.wilde.web.ulb.be', port=443): Max retries exceeded with url: /camille/KB_JB449_1912-01-04_01-00003.pdf (Caused by SSLError(SSLCertVerificationError(1, '[SSL: CERTIFICATE_VERIFY_FAILED] certificate verify failed: unable to get local issuer certificate (_ssl.c:1006)')))\n",
      "Downloading KB_JB449_1947-08-29_01-00003.pdf...\n",
      "Failed to download https://max.de.wilde.web.ulb.be/camille/KB_JB449_1947-08-29_01-00003.pdf: HTTPSConnectionPool(host='max.de.wilde.web.ulb.be', port=443): Max retries exceeded with url: /camille/KB_JB449_1947-08-29_01-00003.pdf (Caused by SSLError(SSLCertVerificationError(1, '[SSL: CERTIFICATE_VERIFY_FAILED] certificate verify failed: unable to get local issuer certificate (_ssl.c:1006)')))\n",
      "Downloading KB_JB494_1853-10-30_01-0002.pdf...\n",
      "Failed to download https://max.de.wilde.web.ulb.be/camille/KB_JB494_1853-10-30_01-0002.pdf: HTTPSConnectionPool(host='max.de.wilde.web.ulb.be', port=443): Max retries exceeded with url: /camille/KB_JB494_1853-10-30_01-0002.pdf (Caused by SSLError(SSLCertVerificationError(1, '[SSL: CERTIFICATE_VERIFY_FAILED] certificate verify failed: unable to get local issuer certificate (_ssl.c:1006)')))\n",
      "Downloading KB_JB494_1922-09-28_01-0005.pdf...\n",
      "Failed to download https://max.de.wilde.web.ulb.be/camille/KB_JB494_1922-09-28_01-0005.pdf: HTTPSConnectionPool(host='max.de.wilde.web.ulb.be', port=443): Max retries exceeded with url: /camille/KB_JB494_1922-09-28_01-0005.pdf (Caused by SSLError(SSLCertVerificationError(1, '[SSL: CERTIFICATE_VERIFY_FAILED] certificate verify failed: unable to get local issuer certificate (_ssl.c:1006)')))\n",
      "Downloading KB_JB494_1939-12-08_01-0004.pdf...\n",
      "Failed to download https://max.de.wilde.web.ulb.be/camille/KB_JB494_1939-12-08_01-0004.pdf: HTTPSConnectionPool(host='max.de.wilde.web.ulb.be', port=443): Max retries exceeded with url: /camille/KB_JB494_1939-12-08_01-0004.pdf (Caused by SSLError(SSLCertVerificationError(1, '[SSL: CERTIFICATE_VERIFY_FAILED] certificate verify failed: unable to get local issuer certificate (_ssl.c:1006)')))\n",
      "Downloading KB_JB555_1836-02-08_01-00002.pdf...\n",
      "Failed to download https://max.de.wilde.web.ulb.be/camille/KB_JB555_1836-02-08_01-00002.pdf: HTTPSConnectionPool(host='max.de.wilde.web.ulb.be', port=443): Max retries exceeded with url: /camille/KB_JB555_1836-02-08_01-00002.pdf (Caused by SSLError(SSLCertVerificationError(1, '[SSL: CERTIFICATE_VERIFY_FAILED] certificate verify failed: unable to get local issuer certificate (_ssl.c:1006)')))\n",
      "Downloading KB_JB555_1899-01-19_01-00003.pdf...\n",
      "Failed to download https://max.de.wilde.web.ulb.be/camille/KB_JB555_1899-01-19_01-00003.pdf: HTTPSConnectionPool(host='max.de.wilde.web.ulb.be', port=443): Max retries exceeded with url: /camille/KB_JB555_1899-01-19_01-00003.pdf (Caused by SSLError(SSLCertVerificationError(1, '[SSL: CERTIFICATE_VERIFY_FAILED] certificate verify failed: unable to get local issuer certificate (_ssl.c:1006)')))\n",
      "Downloading KB_JB555_1940-03-01_01-00004.pdf...\n",
      "Failed to download https://max.de.wilde.web.ulb.be/camille/KB_JB555_1940-03-01_01-00004.pdf: HTTPSConnectionPool(host='max.de.wilde.web.ulb.be', port=443): Max retries exceeded with url: /camille/KB_JB555_1940-03-01_01-00004.pdf (Caused by SSLError(SSLCertVerificationError(1, '[SSL: CERTIFICATE_VERIFY_FAILED] certificate verify failed: unable to get local issuer certificate (_ssl.c:1006)')))\n",
      "Downloading KB_JB567_1857-02-02_01-00003.pdf...\n",
      "Failed to download https://max.de.wilde.web.ulb.be/camille/KB_JB567_1857-02-02_01-00003.pdf: HTTPSConnectionPool(host='max.de.wilde.web.ulb.be', port=443): Max retries exceeded with url: /camille/KB_JB567_1857-02-02_01-00003.pdf (Caused by SSLError(SSLCertVerificationError(1, '[SSL: CERTIFICATE_VERIFY_FAILED] certificate verify failed: unable to get local issuer certificate (_ssl.c:1006)')))\n",
      "Downloading KB_JB567_1892-01-03_01-00005.pdf...\n",
      "Failed to download https://max.de.wilde.web.ulb.be/camille/KB_JB567_1892-01-03_01-00005.pdf: HTTPSConnectionPool(host='max.de.wilde.web.ulb.be', port=443): Max retries exceeded with url: /camille/KB_JB567_1892-01-03_01-00005.pdf (Caused by SSLError(SSLCertVerificationError(1, '[SSL: CERTIFICATE_VERIFY_FAILED] certificate verify failed: unable to get local issuer certificate (_ssl.c:1006)')))\n",
      "Downloading KB_JB567_1924-08-30_01-00003.pdf...\n",
      "Failed to download https://max.de.wilde.web.ulb.be/camille/KB_JB567_1924-08-30_01-00003.pdf: HTTPSConnectionPool(host='max.de.wilde.web.ulb.be', port=443): Max retries exceeded with url: /camille/KB_JB567_1924-08-30_01-00003.pdf (Caused by SSLError(SSLCertVerificationError(1, '[SSL: CERTIFICATE_VERIFY_FAILED] certificate verify failed: unable to get local issuer certificate (_ssl.c:1006)')))\n",
      "Downloading KB_JB572_1850-03-15_01-00003.pdf...\n",
      "Failed to download https://max.de.wilde.web.ulb.be/camille/KB_JB572_1850-03-15_01-00003.pdf: HTTPSConnectionPool(host='max.de.wilde.web.ulb.be', port=443): Max retries exceeded with url: /camille/KB_JB572_1850-03-15_01-00003.pdf (Caused by SSLError(SSLCertVerificationError(1, '[SSL: CERTIFICATE_VERIFY_FAILED] certificate verify failed: unable to get local issuer certificate (_ssl.c:1006)')))\n",
      "Downloading KB_JB572_1927-07-20_01-00005.pdf...\n",
      "Failed to download https://max.de.wilde.web.ulb.be/camille/KB_JB572_1927-07-20_01-00005.pdf: HTTPSConnectionPool(host='max.de.wilde.web.ulb.be', port=443): Max retries exceeded with url: /camille/KB_JB572_1927-07-20_01-00005.pdf (Caused by SSLError(SSLCertVerificationError(1, '[SSL: CERTIFICATE_VERIFY_FAILED] certificate verify failed: unable to get local issuer certificate (_ssl.c:1006)')))\n",
      "Downloading KB_JB572_1950-06-07_01-00004.pdf...\n",
      "Failed to download https://max.de.wilde.web.ulb.be/camille/KB_JB572_1950-06-07_01-00004.pdf: HTTPSConnectionPool(host='max.de.wilde.web.ulb.be', port=443): Max retries exceeded with url: /camille/KB_JB572_1950-06-07_01-00004.pdf (Caused by SSLError(SSLCertVerificationError(1, '[SSL: CERTIFICATE_VERIFY_FAILED] certificate verify failed: unable to get local issuer certificate (_ssl.c:1006)')))\n",
      "Downloading KB_JB638_1860-05-21_01-00002.pdf...\n",
      "Failed to download https://max.de.wilde.web.ulb.be/camille/KB_JB638_1860-05-21_01-00002.pdf: HTTPSConnectionPool(host='max.de.wilde.web.ulb.be', port=443): Max retries exceeded with url: /camille/KB_JB638_1860-05-21_01-00002.pdf (Caused by SSLError(SSLCertVerificationError(1, '[SSL: CERTIFICATE_VERIFY_FAILED] certificate verify failed: unable to get local issuer certificate (_ssl.c:1006)')))\n",
      "Downloading KB_JB638_1902-12-20_01-00002.pdf...\n",
      "Failed to download https://max.de.wilde.web.ulb.be/camille/KB_JB638_1902-12-20_01-00002.pdf: HTTPSConnectionPool(host='max.de.wilde.web.ulb.be', port=443): Max retries exceeded with url: /camille/KB_JB638_1902-12-20_01-00002.pdf (Caused by SSLError(SSLCertVerificationError(1, '[SSL: CERTIFICATE_VERIFY_FAILED] certificate verify failed: unable to get local issuer certificate (_ssl.c:1006)')))\n",
      "Downloading KB_JB638_1946-07-18_01-00003.pdf...\n",
      "Failed to download https://max.de.wilde.web.ulb.be/camille/KB_JB638_1946-07-18_01-00003.pdf: HTTPSConnectionPool(host='max.de.wilde.web.ulb.be', port=443): Max retries exceeded with url: /camille/KB_JB638_1946-07-18_01-00003.pdf (Caused by SSLError(SSLCertVerificationError(1, '[SSL: CERTIFICATE_VERIFY_FAILED] certificate verify failed: unable to get local issuer certificate (_ssl.c:1006)')))\n",
      "Downloading KB_JB685_1894-05-14_01-0003.pdf...\n",
      "Failed to download https://max.de.wilde.web.ulb.be/camille/KB_JB685_1894-05-14_01-0003.pdf: HTTPSConnectionPool(host='max.de.wilde.web.ulb.be', port=443): Max retries exceeded with url: /camille/KB_JB685_1894-05-14_01-0003.pdf (Caused by SSLError(SSLCertVerificationError(1, '[SSL: CERTIFICATE_VERIFY_FAILED] certificate verify failed: unable to get local issuer certificate (_ssl.c:1006)')))\n",
      "Downloading KB_JB685_1903-01-18_01-0002.pdf...\n",
      "Failed to download https://max.de.wilde.web.ulb.be/camille/KB_JB685_1903-01-18_01-0002.pdf: HTTPSConnectionPool(host='max.de.wilde.web.ulb.be', port=443): Max retries exceeded with url: /camille/KB_JB685_1903-01-18_01-0002.pdf (Caused by SSLError(SSLCertVerificationError(1, '[SSL: CERTIFICATE_VERIFY_FAILED] certificate verify failed: unable to get local issuer certificate (_ssl.c:1006)')))\n",
      "Downloading KB_JB685_1913-06-07_01-0006.pdf...\n",
      "Failed to download https://max.de.wilde.web.ulb.be/camille/KB_JB685_1913-06-07_01-0006.pdf: HTTPSConnectionPool(host='max.de.wilde.web.ulb.be', port=443): Max retries exceeded with url: /camille/KB_JB685_1913-06-07_01-0006.pdf (Caused by SSLError(SSLCertVerificationError(1, '[SSL: CERTIFICATE_VERIFY_FAILED] certificate verify failed: unable to get local issuer certificate (_ssl.c:1006)')))\n",
      "Downloading KB_JB729_1895-10-08_01-00003.pdf...\n",
      "Failed to download https://max.de.wilde.web.ulb.be/camille/KB_JB729_1895-10-08_01-00003.pdf: HTTPSConnectionPool(host='max.de.wilde.web.ulb.be', port=443): Max retries exceeded with url: /camille/KB_JB729_1895-10-08_01-00003.pdf (Caused by SSLError(SSLCertVerificationError(1, '[SSL: CERTIFICATE_VERIFY_FAILED] certificate verify failed: unable to get local issuer certificate (_ssl.c:1006)')))\n",
      "Downloading KB_JB729_1927-11-15_01-00004.pdf...\n",
      "Failed to download https://max.de.wilde.web.ulb.be/camille/KB_JB729_1927-11-15_01-00004.pdf: HTTPSConnectionPool(host='max.de.wilde.web.ulb.be', port=443): Max retries exceeded with url: /camille/KB_JB729_1927-11-15_01-00004.pdf (Caused by SSLError(SSLCertVerificationError(1, '[SSL: CERTIFICATE_VERIFY_FAILED] certificate verify failed: unable to get local issuer certificate (_ssl.c:1006)')))\n",
      "Downloading KB_JB729_1939-10-31_01-00006.pdf...\n",
      "Failed to download https://max.de.wilde.web.ulb.be/camille/KB_JB729_1939-10-31_01-00006.pdf: HTTPSConnectionPool(host='max.de.wilde.web.ulb.be', port=443): Max retries exceeded with url: /camille/KB_JB729_1939-10-31_01-00006.pdf (Caused by SSLError(SSLCertVerificationError(1, '[SSL: CERTIFICATE_VERIFY_FAILED] certificate verify failed: unable to get local issuer certificate (_ssl.c:1006)')))\n",
      "Downloading KB_JB773_1918-11-30_01-00002.pdf...\n",
      "Failed to download https://max.de.wilde.web.ulb.be/camille/KB_JB773_1918-11-30_01-00002.pdf: HTTPSConnectionPool(host='max.de.wilde.web.ulb.be', port=443): Max retries exceeded with url: /camille/KB_JB773_1918-11-30_01-00002.pdf (Caused by SSLError(SSLCertVerificationError(1, '[SSL: CERTIFICATE_VERIFY_FAILED] certificate verify failed: unable to get local issuer certificate (_ssl.c:1006)')))\n",
      "Downloading KB_JB773_1933-10-07_01-00007.pdf...\n",
      "Failed to download https://max.de.wilde.web.ulb.be/camille/KB_JB773_1933-10-07_01-00007.pdf: HTTPSConnectionPool(host='max.de.wilde.web.ulb.be', port=443): Max retries exceeded with url: /camille/KB_JB773_1933-10-07_01-00007.pdf (Caused by SSLError(SSLCertVerificationError(1, '[SSL: CERTIFICATE_VERIFY_FAILED] certificate verify failed: unable to get local issuer certificate (_ssl.c:1006)')))\n",
      "Downloading KB_JB773_1950-07-22_01-00010.pdf...\n",
      "Failed to download https://max.de.wilde.web.ulb.be/camille/KB_JB773_1950-07-22_01-00010.pdf: HTTPSConnectionPool(host='max.de.wilde.web.ulb.be', port=443): Max retries exceeded with url: /camille/KB_JB773_1950-07-22_01-00010.pdf (Caused by SSLError(SSLCertVerificationError(1, '[SSL: CERTIFICATE_VERIFY_FAILED] certificate verify failed: unable to get local issuer certificate (_ssl.c:1006)')))\n",
      "Downloading KB_JB835_1911-04-24_01-00004.pdf...\n",
      "Failed to download https://max.de.wilde.web.ulb.be/camille/KB_JB835_1911-04-24_01-00004.pdf: HTTPSConnectionPool(host='max.de.wilde.web.ulb.be', port=443): Max retries exceeded with url: /camille/KB_JB835_1911-04-24_01-00004.pdf (Caused by SSLError(SSLCertVerificationError(1, '[SSL: CERTIFICATE_VERIFY_FAILED] certificate verify failed: unable to get local issuer certificate (_ssl.c:1006)')))\n",
      "Downloading KB_JB835_1930-04-08_01-00006.pdf...\n",
      "Failed to download https://max.de.wilde.web.ulb.be/camille/KB_JB835_1930-04-08_01-00006.pdf: HTTPSConnectionPool(host='max.de.wilde.web.ulb.be', port=443): Max retries exceeded with url: /camille/KB_JB835_1930-04-08_01-00006.pdf (Caused by SSLError(SSLCertVerificationError(1, '[SSL: CERTIFICATE_VERIFY_FAILED] certificate verify failed: unable to get local issuer certificate (_ssl.c:1006)')))\n",
      "Downloading KB_JB835_1949-09-18_01-00004.pdf...\n",
      "Failed to download https://max.de.wilde.web.ulb.be/camille/KB_JB835_1949-09-18_01-00004.pdf: HTTPSConnectionPool(host='max.de.wilde.web.ulb.be', port=443): Max retries exceeded with url: /camille/KB_JB835_1949-09-18_01-00004.pdf (Caused by SSLError(SSLCertVerificationError(1, '[SSL: CERTIFICATE_VERIFY_FAILED] certificate verify failed: unable to get local issuer certificate (_ssl.c:1006)')))\n",
      "Downloading KB_JB837_1886-12-28_01-00002.pdf...\n",
      "Failed to download https://max.de.wilde.web.ulb.be/camille/KB_JB837_1886-12-28_01-00002.pdf: HTTPSConnectionPool(host='max.de.wilde.web.ulb.be', port=443): Max retries exceeded with url: /camille/KB_JB837_1886-12-28_01-00002.pdf (Caused by SSLError(SSLCertVerificationError(1, '[SSL: CERTIFICATE_VERIFY_FAILED] certificate verify failed: unable to get local issuer certificate (_ssl.c:1006)')))\n",
      "Downloading KB_JB837_1925-01-01_01-00003.pdf...\n",
      "Failed to download https://max.de.wilde.web.ulb.be/camille/KB_JB837_1925-01-01_01-00003.pdf: HTTPSConnectionPool(host='max.de.wilde.web.ulb.be', port=443): Max retries exceeded with url: /camille/KB_JB837_1925-01-01_01-00003.pdf (Caused by SSLError(SSLCertVerificationError(1, '[SSL: CERTIFICATE_VERIFY_FAILED] certificate verify failed: unable to get local issuer certificate (_ssl.c:1006)')))\n",
      "Downloading KB_JB837_1950-12-01_01-00007.pdf...\n",
      "Failed to download https://max.de.wilde.web.ulb.be/camille/KB_JB837_1950-12-01_01-00007.pdf: HTTPSConnectionPool(host='max.de.wilde.web.ulb.be', port=443): Max retries exceeded with url: /camille/KB_JB837_1950-12-01_01-00007.pdf (Caused by SSLError(SSLCertVerificationError(1, '[SSL: CERTIFICATE_VERIFY_FAILED] certificate verify failed: unable to get local issuer certificate (_ssl.c:1006)')))\n",
      "Downloading KB_JB838_1887-12-28_01-00003.pdf...\n",
      "Failed to download https://max.de.wilde.web.ulb.be/camille/KB_JB838_1887-12-28_01-00003.pdf: HTTPSConnectionPool(host='max.de.wilde.web.ulb.be', port=443): Max retries exceeded with url: /camille/KB_JB838_1887-12-28_01-00003.pdf (Caused by SSLError(SSLCertVerificationError(1, '[SSL: CERTIFICATE_VERIFY_FAILED] certificate verify failed: unable to get local issuer certificate (_ssl.c:1006)')))\n",
      "Downloading KB_JB838_1911-08-03_01-00006.pdf...\n",
      "Failed to download https://max.de.wilde.web.ulb.be/camille/KB_JB838_1911-08-03_01-00006.pdf: HTTPSConnectionPool(host='max.de.wilde.web.ulb.be', port=443): Max retries exceeded with url: /camille/KB_JB838_1911-08-03_01-00006.pdf (Caused by SSLError(SSLCertVerificationError(1, '[SSL: CERTIFICATE_VERIFY_FAILED] certificate verify failed: unable to get local issuer certificate (_ssl.c:1006)')))\n",
      "Downloading KB_JB838_1943-09-04_01-00002.pdf...\n",
      "Failed to download https://max.de.wilde.web.ulb.be/camille/KB_JB838_1943-09-04_01-00002.pdf: HTTPSConnectionPool(host='max.de.wilde.web.ulb.be', port=443): Max retries exceeded with url: /camille/KB_JB838_1943-09-04_01-00002.pdf (Caused by SSLError(SSLCertVerificationError(1, '[SSL: CERTIFICATE_VERIFY_FAILED] certificate verify failed: unable to get local issuer certificate (_ssl.c:1006)')))\n",
      "Downloading KB_JB92_1860-02-09_01-00003.pdf...\n",
      "Failed to download https://max.de.wilde.web.ulb.be/camille/KB_JB92_1860-02-09_01-00003.pdf: HTTPSConnectionPool(host='max.de.wilde.web.ulb.be', port=443): Max retries exceeded with url: /camille/KB_JB92_1860-02-09_01-00003.pdf (Caused by SSLError(SSLCertVerificationError(1, '[SSL: CERTIFICATE_VERIFY_FAILED] certificate verify failed: unable to get local issuer certificate (_ssl.c:1006)')))\n",
      "Downloading KB_JB92_1873-02-06_01-00002.pdf...\n",
      "Failed to download https://max.de.wilde.web.ulb.be/camille/KB_JB92_1873-02-06_01-00002.pdf: HTTPSConnectionPool(host='max.de.wilde.web.ulb.be', port=443): Max retries exceeded with url: /camille/KB_JB92_1873-02-06_01-00002.pdf (Caused by SSLError(SSLCertVerificationError(1, '[SSL: CERTIFICATE_VERIFY_FAILED] certificate verify failed: unable to get local issuer certificate (_ssl.c:1006)')))\n",
      "Downloading KB_JB92_1885-09-29_01-00002.pdf...\n",
      "Failed to download https://max.de.wilde.web.ulb.be/camille/KB_JB92_1885-09-29_01-00002.pdf: HTTPSConnectionPool(host='max.de.wilde.web.ulb.be', port=443): Max retries exceeded with url: /camille/KB_JB92_1885-09-29_01-00002.pdf (Caused by SSLError(SSLCertVerificationError(1, '[SSL: CERTIFICATE_VERIFY_FAILED] certificate verify failed: unable to get local issuer certificate (_ssl.c:1006)')))\n",
      "Done\n"
     ]
    }
   ],
   "source": [
    "from urllib.parse import urljoin, urlparse\n",
    "import os\n",
    "import requests\n",
    "from tqdm import tqdm\n",
    "\n",
    "root = 'https://max.de.wilde.web.ulb.be/camille/'\n",
    "os.makedirs('../data/PDF', exist_ok=True)\n",
    "\n",
    "# récupérer la page racine\n",
    "resp = requests.get(root, headers=headers, verify=False)\n",
    "soup = BeautifulSoup(resp.text, 'html.parser')\n",
    "\n",
    "pdf_links = set()\n",
    "for a in soup.find_all('a', href=True):\n",
    "    href = a['href']\n",
    "    if href.lower().endswith('.pdf'):\n",
    "        full = urljoin(root, href)\n",
    "        pdf_links.add(full)\n",
    "\n",
    "print(f'Found {len(pdf_links)} PDF links')\n",
    "\n",
    "for url in sorted(pdf_links):\n",
    "    filename = os.path.basename(urlparse(url).path)\n",
    "    outpath = os.path.join('..', 'data', 'PDF', filename)\n",
    "    if os.path.exists(outpath):\n",
    "        print(f'Skipping existing {filename}')\n",
    "        continue\n",
    "    try:\n",
    "        print(f'Downloading {filename}...')\n",
    "        r = requests.get(url, headers=headers, stream=True, timeout=30)\n",
    "        r.raise_for_status()\n",
    "        total = int(r.headers.get('content-length', 0))\n",
    "        with open(outpath, 'wb') as f:\n",
    "            if total == 0:\n",
    "                # no content-length header; write all at once\n",
    "                f.write(r.content)\n",
    "            else:\n",
    "                # stream with progress bar\n",
    "                with tqdm(total=total, unit='B', unit_scale=True, desc=filename) as pbar:\n",
    "                    for chunk in r.iter_content(chunk_size=8192):\n",
    "                        if chunk:\n",
    "                            f.write(chunk)\n",
    "                            pbar.update(len(chunk))\n",
    "        print(f'Downloaded {filename}')\n",
    "    except Exception as e:\n",
    "        print(f'Failed to download {url}: {e}')\n",
    "\n",
    "print('Done')"
   ]
  },
  {
   "cell_type": "markdown",
   "metadata": {},
   "source": [
    "## PoC : récupérer des articles, détecter la langue, traduire et sauvegarder\n",
    "\n",
    "Le bloc suivant utilise les clients API définis dans `tps/tp1/apis` :\n",
    "- `gnews_client` pour récupérer des articles (requiert `GNEWS_API_KEY`)\n",
    "- `libretranslate_client` pour détecter et traduire les descriptions\n",
    "- `arxiv_client` comme secours si pas de clé GNews\n"
   ]
  },
  {
   "cell_type": "code",
   "execution_count": null,
   "metadata": {},
   "outputs": [],
   "source": [
    "# Imports pour le PoC\n",
    "import os\n",
    "import pandas as pd\n",
    "from tps.tp1.apis.gnews_client import search_news\n",
    "from tps.tp1.apis.libretranslate_client import detect_language, translate\n",
    "from tps.tp1.apis.arxiv_client import search_arxiv\n",
    "\n",
    "os.makedirs(os.path.join('..','data'), exist_ok=True)\n"
   ]
  },
  {
   "cell_type": "code",
   "execution_count": null,
   "metadata": {},
   "outputs": [],
   "source": [
    "# Fetch 5 articles (GNews) ou fallback arXiv\n",
    "query = 'Camille'\n",
    "items = []\n",
    "try:\n",
    "    items = search_news(query, lang='fr', max_results=5)\n",
    "except Exception as e:\n",
    "    print('GNews failed or no API key; falling back to arXiv:', e)\n",
    "    items = []\n",
    "    for a in search_arxiv(query, max_results=5):\n",
    "        items.append({'title': a.get('title'), 'url': a.get('url'), 'source': 'arXiv', 'publishedAt': a.get('published'), 'description': a.get('summary')})\n",
    "\n",
    "# Detect & translate\n",
    "for it in items:\n",
    "    descr = it.get('description') or ''\n",
    "    lang = detect_language(descr) if descr else None\n",
    "    it['detected_lang'] = lang\n",
    "    it['description_en'] = translate(descr, source=lang or 'auto', target='en') if descr else ''\n",
    "\n",
    "df = pd.DataFrame(items)\n",
    "display(df)\n",
    "out = os.path.join('..','data','news_demo_from_notebook.csv')\n",
    "df.to_csv(out, index=False)\n",
    "print('Saved to', out)\n"
   ]
  },
  {
   "cell_type": "markdown",
   "metadata": {},
   "source": [
    "## Pour en savoir plus"
   ]
  },
  {
   "cell_type": "markdown",
   "metadata": {},
   "source": [
    "- Le web scraping avec Python: https://realpython.com/beautiful-soup-web-scraper-python/ \n",
    "- Tutoriel sur les expressions régulières: https://www.w3schools.com/python/python_regex.asp "
   ]
  }
 ],
 "metadata": {
  "kernelspec": {
   "display_name": "tac_venv (3.11.9)",
   "language": "python",
   "name": "python3"
  },
  "language_info": {
   "codemirror_mode": {
    "name": "ipython",
    "version": 3
   },
   "file_extension": ".py",
   "mimetype": "text/x-python",
   "name": "python",
   "nbconvert_exporter": "python",
   "pygments_lexer": "ipython3",
   "version": "3.11.9"
  }
 },
 "nbformat": 4,
 "nbformat_minor": 4
}
