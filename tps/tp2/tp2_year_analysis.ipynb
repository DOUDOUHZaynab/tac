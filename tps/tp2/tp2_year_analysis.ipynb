{
 "cells": [
  {
   "cell_type": "markdown",
   "id": "0eb9afb4",
   "metadata": {},
   "source": [
    "# Analyse par année — pipeline récapitulatif\n",
    "\n",
    "Ce notebook exécute, pour l'année choisie (ici 1955), les étapes demandées :\n",
    "1) Extraire les fichiers du corpus pour l'année,\n",
    "2) Extraire les mots-clés (fréquence) et itérativement enrichir la liste de stopwords,\n",
    "3) Générer un nuage de mots (image sauvegardée),\n",
    "4) Exécuter la reconnaissance d'entités nommées (personnes, organisations, lieux),\n",
    "5) Sélectionner 10 phrases et analyser leur polarité/subjectivité (tableau sauvegardé),\n",
    "6) Résumer et exporter les résultats dans `tps/tp2/` (image + CSV)."
   ]
  },
  {
   "cell_type": "code",
   "execution_count": null,
   "id": "eedd6a45",
   "metadata": {},
   "outputs": [],
   "source": [
    "# Paramètres\n",
    "YEAR = 1955\n",
    "DATA_TXT_DIR = '../data/txt'  # chemin relatif depuis ce notebook\n",
    "OUT_DIR = './'  # répertoire du notebook (tps/tp2)\n",
    "WORDCLOUD_PATH = 'wordcloud_1955.png'\n",
    "SENTIMENT_CSV = 'sentiment_1955.csv'\n",
    "N_TOP_WORDS = 100\n",
    "SENTENCE_SAMPLE_SIZE = 10\n",
    "print(f'Year set to {YEAR}')\n",
    ": \n",
    ",\n",
    ": { \n",
    ": \n",
    " },\n",
    ": [\n",
    ",\n",
    ",\n",
    ",\n",
    ",\n",
    ",\n",
    ",\n",
    ","
   ]
  },
  {
   "cell_type": "code",
   "execution_count": null,
   "id": "5b267265",
   "metadata": {},
   "outputs": [],
   "source": [
    "# Nettoyage simple et tokenisation, extraction de fréquence (mots)\n",
    "import string\n",
    "from collections import Counter\n",
    "# stopwords de base (français)\n",
    "BASE_STOPWORDS = set([\n",
    "    'le','la','les','un','une','de','des','du','et','en','à','a','au','aux',\n",
    "    'dans','pour','par','avec','ce','ces','se','qui','que','qui','est','sont',\n",
    "    'sur','pas','ne','il','elle','nous','vous','ils','elles','sa','son','ses',\n",
    "    'mais','ou','donc','or','ni','car','comme','plus','moins','aussi','été','être'\n",
    "])\n",
    "# tokenisation très simple\n",
    "words = re.findall(r\n",
    ", corpus.lower())\n",
    "words = [w.strip(string.punctuation) for w in words if len(w) > 1]\n",
    "# retirer chiffres seuls\n",
    "words = [w for w in words if not re.fullmatch(r'\\d+', w)]\n",
    "counter = Counter(words)\n",
    "# filtrer stopwords initialement\n",
    "freq = [(w, c) for w, c in counter.most_common() if w not in BASE_STOPWORDS]\n",
    "freq[:30]\n",
    ": \n",
    ",\n",
    ": { \n",
    ": \n",
    " },\n",
    ": [\n",
    ",\n",
    "\n",
    ": \n",
    ",\n",
    ": { \n",
    ": \n",
    " },\n",
    ": [\n",
    ",\n",
    "50\n",
    ",\n",
    "1"
   ]
  },
  {
   "cell_type": "code",
   "execution_count": null,
   "id": "7537a25b",
   "metadata": {},
   "outputs": [],
   "source": []
  }
 ],
 "metadata": {
  "language_info": {
   "name": "python"
  }
 },
 "nbformat": 4,
 "nbformat_minor": 5
}
