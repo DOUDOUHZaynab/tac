{
 "cells": [
  {
   "cell_type": "code",
   "execution_count": null,
   "metadata": {},
   "outputs": [],
   "source": [
    "# Paramètres pour exécution année spécifique\n",
    "YEAR = 1955\n",
    "DATA_TXT_DIR = '../../data/txt'  # chemin depuis module3\n",
    "OUT_DIR = '../../tps/tp2'\n",
    "KEYWORDS_CSV = f'{OUT_DIR}/keywords_{YEAR}.csv'\n",
    "N_TOP_WORDS = 200\n",
    "print(f'Set YEAR={YEAR}, outputs -> {OUT_DIR}')\n"
   ]
  },
  {
   "cell_type": "markdown",
   "metadata": {},
   "source": [
    "# Extraction de Keywords"
   ]
  },
  {
   "cell_type": "markdown",
   "metadata": {},
   "source": [
    "## Imports"
   ]
  },
  {
   "cell_type": "code",
   "execution_count": 8,
   "metadata": {},
   "outputs": [],
   "source": [
    "import os\n",
    "import yake"
   ]
  },
  {
   "cell_type": "markdown",
   "metadata": {},
   "source": [
    "## Extraire les mots clés d'un document avec Yake"
   ]
  },
  {
   "cell_type": "markdown",
   "metadata": {},
   "source": [
    "https://github.com/LIAAD/yake"
   ]
  },
  {
   "cell_type": "code",
   "execution_count": 9,
   "metadata": {},
   "outputs": [
    {
     "data": {
      "text/plain": [
       "<yake.yake.KeywordExtractor at 0x2747efc7f10>"
      ]
     },
     "execution_count": 9,
     "metadata": {},
     "output_type": "execute_result"
    }
   ],
   "source": [
    "# Instantier l'extracteur de mots clés\n",
    "kw_extractor = yake.KeywordExtractor(lan=\"fr\", top=50)\n",
    "kw_extractor"
   ]
  },
  {
   "cell_type": "code",
   "execution_count": null,
   "metadata": {},
   "outputs": [],
   "source": [
    "# Lister les fichiers pour l'année spécifiée (YEAR)\n",
    "data_path = f'../data/txt/'\n",
    "files = [f for f in os.listdir(data_path) if f.endswith('.txt') and str(YEAR) in f]\n",
    "print(f'Found {len(files)} files for YEAR={YEAR}')"
   ]
  },
  {
   "cell_type": "code",
   "execution_count": 11,
   "metadata": {},
   "outputs": [
    {
     "data": {
      "text/plain": [
       "7936"
      ]
     },
     "execution_count": 11,
     "metadata": {},
     "output_type": "execute_result"
    }
   ],
   "source": [
    "# Imprimer le nombre de fichiers identifiés\n",
    "len(files)"
   ]
  },
  {
   "cell_type": "code",
   "execution_count": 12,
   "metadata": {},
   "outputs": [
    {
     "data": {
      "text/plain": [
       "['KB_JB838_1887-12-22_01-00001.txt',\n",
       " 'KB_JB838_1887-12-22_01-00002.txt',\n",
       " 'KB_JB838_1887-12-22_01-00003.txt',\n",
       " 'KB_JB838_1887-12-22_01-00004.txt',\n",
       " 'KB_JB838_1887-12-22_01-00005.txt',\n",
       " 'KB_JB838_1887-12-22_01-00006.txt',\n",
       " 'KB_JB838_1887-12-23_01-00001.txt',\n",
       " 'KB_JB838_1887-12-23_01-00002.txt',\n",
       " 'KB_JB838_1887-12-24_01-00001.txt',\n",
       " 'KB_JB838_1887-12-24_01-00002.txt']"
      ]
     },
     "execution_count": 12,
     "metadata": {},
     "output_type": "execute_result"
    }
   ],
   "source": [
    "# Les dix premiers fichiers\n",
    "files[:10]"
   ]
  },
  {
   "cell_type": "code",
   "execution_count": 13,
   "metadata": {},
   "outputs": [
    {
     "data": {
      "text/plain": [
       "'KB_JB838_1887-12-22_01-00001.txt'"
      ]
     },
     "execution_count": 13,
     "metadata": {},
     "output_type": "execute_result"
    }
   ],
   "source": [
    "# Choisir un fichier\n",
    "this_file = files[0]\n",
    "this_file"
   ]
  },
  {
   "cell_type": "code",
   "execution_count": 14,
   "metadata": {},
   "outputs": [
    {
     "data": {
      "text/plain": [
       "'ræge quotidien J00 EXEMPLAIRES distribués gratuitement ■ k . ‘ dans ilàgg;lomération bruxelloise et.en province. ï personnes habitant aux étages fenile journal contre 60 c“« par mois. fSpir est expédié en proyinôe contre t*»\"par mois, payables par trimestre. annonces, faits divers et réclames sjont reçu frie d’Isabelle ; à l’AGENCE ROSSFJl. 44. -v , et do l’Enseignement, à BraxelL annonces remises avant midi sont ; -a ;\\'% >1 v»^.:Vv* *\\'• hv/f ■- v 1 v ; \\' y > fif \\'ji l\\'H-et. Jeudi 22 Décembre i8'"
      ]
     },
     "execution_count": 14,
     "metadata": {},
     "output_type": "execute_result"
    }
   ],
   "source": [
    "# Récupérer le texte du fichier\n",
    "text = open(os.path.join(data_path, this_file), 'r', encoding='utf-8').read()\n",
    "text[:500]"
   ]
  },
  {
   "cell_type": "code",
   "execution_count": null,
   "metadata": {},
   "outputs": [
    {
     "data": {
      "text/plain": [
       "[('EXEMPLAIRES distribués gratuitement', 0.0017848580261551092),\n",
       " ('lomération bruxelloise et.en', 0.005155299816540558),\n",
       " ('EXEMPLAIRES distribués', 0.01032598116126104),\n",
       " ('bruxelloise et.en province', 0.0217728194968606),\n",
       " ('assassins politiques', 0.025372781929452606),\n",
       " ('distribués gratuitement', 0.02901112747485758),\n",
       " ('lomération bruxelloise', 0.02901112747485758),\n",
       " ('bruxelloise et.en', 0.029422999711739103),\n",
       " ('QUOTIDIEN GRATUIT Température', 0.030648777502273662),\n",
       " ('qu’il', 0.03653509748641892),\n",
       " ('ASSASSINS', 0.04361721127037355),\n",
       " ('Température Baromètre Humidité', 0.04454901112965941),\n",
       " ('midi Température Baromètre', 0.045927628989632464),\n",
       " ('ræge quotidien', 0.04655000901040904),\n",
       " ('commis', 0.048058141007095885),\n",
       " ('fut', 0.04882392397365301),\n",
       " ('chemin de fer', 0.050194801488827295),\n",
       " ('Louvel', 0.053759999074197734),\n",
       " ('d’une', 0.05450795849251973),\n",
       " ('uno', 0.05452583448200533),\n",
       " ('chemin', 0.05671202509167882),\n",
       " ('fer', 0.058028910575572766),\n",
       " ('société', 0.058078927524250014),\n",
       " ('heures', 0.06036055270043405),\n",
       " ('EXEMPLAIRES', 0.06045375295405591),\n",
       " ('BRUXELLES', 0.0631757910395919),\n",
       " ('travail', 0.06677791183530812),\n",
       " ('politiques', 0.07041544451832259),\n",
       " ('midi', 0.07178224097813798),\n",
       " ('Décembre', 0.07190750597999457),\n",
       " ('jour', 0.07770046095862936),\n",
       " ('ligne', 0.07895680838156742),\n",
       " ('grand', 0.08524689838955626),\n",
       " ('point', 0.0854454893320521),\n",
       " ('d’un', 0.08590493659764754),\n",
       " ('SIÈCLE', 0.08642054582643506),\n",
       " ('GRATUIT Température maximum', 0.08644026197037143),\n",
       " ('ans', 0.08677156289016351),\n",
       " ('commis au chemin', 0.08702378888054658),\n",
       " ('Jeudi', 0.08748169873313137),\n",
       " ('Morey et Pépin', 0.08788098813597583),\n",
       " ('capitaine', 0.08811629535825924),\n",
       " ('annonces', 0.0917124986670345),\n",
       " ('timbre', 0.09188506963089502),\n",
       " ('homme', 0.09422634093974369),\n",
       " ('QUOTIDIEN GRATUIT', 0.09848701432311693),\n",
       " ('GRATUIT Température', 0.10056496590851494),\n",
       " ('facteur rural', 0.10065021437485533),\n",
       " ('mort', 0.10162870130788097),\n",
       " ('Température Baromètre', 0.1059845847757555)]"
      ]
     },
     "execution_count": 15,
     "metadata": {},
     "output_type": "execute_result"
    }
   ],
   "source": [
    "# Extraire les mots clés de ce texte (exemple)\n",
    "keywords = kw_extractor.extract_keywords(text)\n",
    "keywords"
   ]
  },
  {
   "cell_type": "code",
   "execution_count": null,
   "metadata": {},
   "outputs": [
    {
     "data": {
      "text/plain": [
       "['EXEMPLAIRES distribués',\n",
       " 'assassins politiques',\n",
       " 'distribués gratuitement',\n",
       " 'lomération bruxelloise',\n",
       " 'bruxelloise et.en',\n",
       " 'ræge quotidien',\n",
       " 'QUOTIDIEN GRATUIT',\n",
       " 'GRATUIT Température',\n",
       " 'facteur rural',\n",
       " 'Température Baromètre']"
      ]
     },
     "execution_count": 16,
     "metadata": {},
     "output_type": "execute_result"
    }
   ],
   "source": [
    "# Ne garder que les bigrammes (exemple)\n",
    "kept = []\n",
    "for kw, score in keywords:\n",
    "    words = kw.split()\n",
    "    if len(words) == 2:\n",
    "        kept.append(kw)\n",
    "kept"
   ]
  },
  {
   "cell_type": "markdown",
   "metadata": {},
   "source": [
    "## Faire la même opération sur tous les documents"
   ]
  },
  {
   "cell_type": "code",
   "execution_count": null,
   "metadata": {},
   "outputs": [
    {
     "name": "stdout",
     "output_type": "stream",
     "text": [
      "KB_JB838_1887-12-22_01-00001.txt mentions these keywords: EXEMPLAIRES distribués, assassins politiques, distribués gratuitement, lomération bruxelloise, bruxelloise et.en, ræge quotidien, QUOTIDIEN GRATUIT, GRATUIT Température, facteur rural, Température Baromètre...\n",
      "KB_JB838_1887-12-22_01-00002.txt mentions these keywords: Ligue nalio, rester fidèle, Van Ophem...\n",
      "KB_JB838_1887-12-22_01-00003.txt mentions these keywords: prince Guillaume, Finet critique, Pierrot Macabre, HEURE Vienne...\n",
      "KB_JB838_1887-12-22_01-00004.txt mentions these keywords: demande place, fiVS ÉPICERIES, ÉPICERIES t'Tu, lie Cologne, Fille val., place Madou, Bon Marché, rue Scailquin, rue Plantin, sci rue, bon certifie, rue lie, rue Bines, exposition Bruxelles, place sach, Bruxelles Centre, BRUXELLES Rideauœ...\n",
      "KB_JB838_1887-12-22_01-00005.txt mentions these keywords: rue Plantin, OBJETS PERDUS, PERDUS gravure, LOUER DEMANDES, grande rue, rue Blaes, rue Hôtel, prix Bruxelles, rue Goflhrl, wôporler rue, rue St-Micliel...\n",
      "KB_JB838_1887-12-22_01-00006.txt mentions these keywords: RHUM ST-GEORGES, question militaire, Société royale, Société Philharmonique, l’école militaire, rue Haute, Nord BRUXELLES, préparatifs militaires, loi portant...\n",
      "KB_JB838_1887-12-23_01-00001.txt mentions these keywords: matin Température, Température maximum, GRATUIT température, température Irti, heurte matin, OBSERVATOIRE ROYAL, Irti Baromètre, QUOTIDIEN GRATUIT, JOURNAL QUOTIDIEN, rues Royale, Vent dominant, Haute Pinte, Bruxelles d’un, Pinte rue...\n",
      "KB_JB838_1887-12-23_01-00002.txt mentions these keywords: ...\n",
      "KB_JB838_1887-12-24_01-00001.txt mentions these keywords: TIRAGE QUOTIDIEN, nommé président, JOURNAL QUOTIDIEN, c’est qu’il, QUOTIDIEN GRATUIT, ANNÉE Samedi, section artistique, BRUXELLES PRIX...\n",
      "KB_JB838_1887-12-24_01-00002.txt mentions these keywords: capitaine Mac, Mme Lachaud, rue Joseph, police qu’il, jeune homme...\n"
     ]
    }
   ],
   "source": [
    "# Parcourir tous les fichiers de l'année, extraire keywords et agréger\n",
    "from collections import Counter\n",
    "agg = Counter()\n",
    "for f in sorted(files):\n",
    "    path = os.path.join(data_path, f)\n",
    "    try:\n",
    "        text = open(path, 'r', encoding=\"utf-8\").read()\n",
    "    except Exception:\n",
    "        text = open(path, 'r', encoding=\"latin-1\").read()\n",
    "    kws = kw_extractor.extract_keywords(text)\n",
    "    for kw, score in kws:\n",
    "        # normaliser en minuscules et garder bigrammes\n",
    "        if len(kw.split()) == 2:\n",
    "            agg[kw.lower()] += 1\n",
    "# Obtenir les N_TOP_WORDS les plus fréquents\n",
    "top = agg.most_common(N_TOP_WORDS)\n",
    "import pandas as pd\n",
    "df = pd.DataFrame(top, columns=['keyword','count'])\n",
    "out_path = os.path.join(OUT_DIR, f'keywords_{YEAR}.csv')\n",
    "os.makedirs(OUT_DIR, exist_ok=True)\n",
    "df.to_csv(out_path, index=False, encoding='utf-8')\n",
    "print(f'Saved aggregated keywords to {out_path}')"
   ]
  }
 ],
 "metadata": {
  "kernelspec": {
   "display_name": "tac_venv (3.11.9)",
   "language": "python",
   "name": "python3"
  },
  "language_info": {
   "codemirror_mode": {
    "name": "ipython",
    "version": 3
   },
   "file_extension": ".py",
   "mimetype": "text/x-python",
   "name": "python",
   "nbconvert_exporter": "python",
   "pygments_lexer": "ipython3",
   "version": "3.11.9"
  }
 },
 "nbformat": 4,
 "nbformat_minor": 4
}
